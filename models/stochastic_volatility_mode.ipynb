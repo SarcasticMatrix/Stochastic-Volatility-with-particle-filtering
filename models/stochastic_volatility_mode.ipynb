{
 "cells": [
  {
   "cell_type": "code",
   "execution_count": null,
   "id": "a771b8a3-eb2d-4653-a08d-5c66fc265ca8",
   "metadata": {},
   "outputs": [],
   "source": [
    "from stochastic_volatility_model import *"
   ]
  },
  {
   "cell_type": "markdown",
   "id": "2cb6cacf-24dd-4af5-8772-476af1626c01",
   "metadata": {},
   "source": [
    "# 1. Exemples de trajectoires"
   ]
  },
  {
   "cell_type": "code",
   "execution_count": null,
   "id": "b3596e62-e20d-4e98-85b6-c8b41e2bfe78",
   "metadata": {},
   "outputs": [],
   "source": [
    "N = 10000\n",
    "T = 100\n",
    "alpha_cst= 0\n",
    "beta_cst = 0.9702\n",
    "mu_cst = 0\n",
    "W_cst = 1"
   ]
  },
  {
   "cell_type": "markdown",
   "id": "dc8d3dfb-fc4e-4d91-9daf-e47bfc072271",
   "metadata": {},
   "source": [
    "> **Méthode A**"
   ]
  },
  {
   "cell_type": "code",
   "execution_count": null,
   "id": "afeb3740-5b13-43b0-84b0-c7aa99962fc1",
   "metadata": {},
   "outputs": [],
   "source": [
    "show_random_trajectory_stochastic_volatility_model(T)"
   ]
  },
  {
   "cell_type": "markdown",
   "id": "2a3fdb5a-c24e-4f86-8687-7511f09171ae",
   "metadata": {},
   "source": [
    "> **Méthode B**"
   ]
  },
  {
   "cell_type": "code",
   "execution_count": null,
   "id": "74ffed4f-ee62-4c6e-b4d6-c5aac327dcef",
   "metadata": {},
   "outputs": [],
   "source": [
    "# on génère la trajectoire \n",
    "hidden_states, observations = generate_trajectory_stochastic_volatility_model(T)\n",
    "\n",
    "# on les plots\n",
    "show_a_trajectory_stochastic_volatility_model(T,hidden_states, observations)"
   ]
  },
  {
   "cell_type": "markdown",
   "id": "f6a4cbae-88ba-4b51-9da2-dcc4f2167a1e",
   "metadata": {},
   "source": [
    "# 2. Quelques runs du SIR "
   ]
  },
  {
   "cell_type": "markdown",
   "id": "a3f119ec-3cb3-41cf-8817-598514b72909",
   "metadata": {},
   "source": [
    "> **Méthode A**"
   ]
  },
  {
   "cell_type": "code",
   "execution_count": null,
   "id": "d0a51bc1-815e-414a-ab64-a4a05ed7c4f5",
   "metadata": {},
   "outputs": [],
   "source": [
    "show_SIR_random_trajectory_stochastic_volatility_model(T,N,alpha_cst,W_cst,beta_cst,mu_cst)"
   ]
  },
  {
   "cell_type": "markdown",
   "id": "a325bb25-aa3d-43b6-8da1-4c274de25606",
   "metadata": {},
   "source": [
    "> **Méthode B**"
   ]
  },
  {
   "cell_type": "code",
   "execution_count": null,
   "id": "3cd91b7c-0a23-41c3-b506-41cf5244d56e",
   "metadata": {},
   "outputs": [],
   "source": [
    "# On génère les hidden states et observations\n",
    "hidden_states, observations = generate_trajectory_stochastic_volatility_model(T)\n",
    "\n",
    "# On applique le SIR et on le plot  \n",
    "show_SIR_trajectory_stochastic_volatility_model(T,N,hidden_states,observations,alpha_cst,W_cst,beta_cst,mu_cst)"
   ]
  },
  {
   "cell_type": "markdown",
   "id": "b3baa094-b978-4f6c-b75a-f273d2c78a24",
   "metadata": {},
   "source": [
    "# 3. Quelques runs du Storvik"
   ]
  },
  {
   "cell_type": "markdown",
   "id": "529dddbb-03ea-4a9d-9f83-1aa029bd6d0b",
   "metadata": {},
   "source": [
    "> **Méthode A**"
   ]
  },
  {
   "cell_type": "code",
   "execution_count": null,
   "id": "4ccb658d-4b45-416f-a39e-e19cae5ba66f",
   "metadata": {},
   "outputs": [],
   "source": [
    "show_random_storvik_SIR_stochastic_volatility_model(T,N)"
   ]
  },
  {
   "cell_type": "markdown",
   "id": "b3bc3331-8d70-455e-b2a4-1ea3f9765ca7",
   "metadata": {},
   "source": [
    "> **Méthode B**"
   ]
  },
  {
   "cell_type": "code",
   "execution_count": null,
   "id": "9c1644ed-1d1d-446c-9233-cbb6f81b33dc",
   "metadata": {},
   "outputs": [],
   "source": [
    "# On génère la trajectoire et les observations\n",
    "hiden_states,observations = generate_trajectory_stochastic_volatility_model(T)\n",
    "\n",
    "# On applique et affiche le filtre de Storvik\n",
    "show_storvik_SIR_stochastic_volatility_model(T,N,hiden_states,observations)"
   ]
  },
  {
   "cell_type": "markdown",
   "id": "51e5ad5a-8617-46de-abb9-a8a7b8353f7b",
   "metadata": {},
   "source": [
    "# 4. Estimation des paramètres du modèle"
   ]
  },
  {
   "cell_type": "markdown",
   "id": "d33a1a71-62aa-476f-a3e1-f381d1639045",
   "metadata": {},
   "source": [
    "> **Non moyenné**"
   ]
  },
  {
   "cell_type": "code",
   "execution_count": null,
   "id": "555a56d3-76c8-4b3d-bcf5-b657113991ad",
   "metadata": {},
   "outputs": [],
   "source": [
    "T = 1000\n",
    "N = 1000\n",
    "show_random_stovik_SIR_and_parameters_stochastic_volatility_model(T,N)"
   ]
  },
  {
   "cell_type": "markdown",
   "id": "384ff73e-b1fc-4e6c-9609-f8a878d3404d",
   "metadata": {},
   "source": [
    "> **Moyenné**"
   ]
  },
  {
   "cell_type": "code",
   "execution_count": null,
   "id": "57157371-bcf6-4e72-9cb7-80d7534c828c",
   "metadata": {},
   "outputs": [],
   "source": [
    "from stochastic_volatility_model import *\n",
    "T = 1000\n",
    "nbr_iteration = 10\n",
    "N = 100\n",
    "n_W,n_alpha,n_beta,n_mu,n_W_parametre = run_n_storvik_SIR_stochastic_volatility_model(T,N,nbr_iteration)\n",
    "\n",
    "show_n_runs_stochastic_volatility_model(n_W,n_W_parametre,n_alpha,n_beta,n_mu)"
   ]
  },
  {
   "cell_type": "markdown",
   "id": "3377d1d7-9cc5-4ef3-934b-4dac436337a5",
   "metadata": {},
   "source": [
    "# 5. Testes avec les paramètres estimés"
   ]
  },
  {
   "cell_type": "code",
   "execution_count": null,
   "id": "a9ed8418-735e-4c01-8eb5-5588ffa4c177",
   "metadata": {},
   "outputs": [],
   "source": [
    "estimated_W, estimated_alpha, estimated_beta, mu_estimated = parameters_estimations(n_W,n_W_parametre, n_alpha, n_beta, n_mu)\n",
    "print(estimated_W, estimated_alpha, estimated_beta, mu_estimated)\n",
    "show_SIR_random_trajectory_stochastic_volatility_model(T,N,estimated_alpha,estimated_W,estimated_beta,mu_estimated)"
   ]
  },
  {
   "cell_type": "markdown",
   "id": "5cf97ded-28e3-40d7-a153-83873cb4e585",
   "metadata": {},
   "source": [
    "# PLS"
   ]
  },
  {
   "cell_type": "code",
   "execution_count": null,
   "id": "c13d4020-5dbb-4d74-aabf-e6ee0a244850",
   "metadata": {},
   "outputs": [],
   "source": [
    "from stochastic_volatility_model import * \n",
    "\n",
    "N = 1000\n",
    "T = 1000\n",
    "\n",
    "# On crée la trajectoire \n",
    "hidden_states,Y = generate_trajectory_stochastic_volatility_model(T)\n",
    "\n",
    "# On run le Storvik dessus \n",
    "X, W, W_estimated, alpha_estimated, beta_estimated, mu_estimated = storvik_SIR_stochastic_volatility_model(T,Y,N)\n",
    "hidden_states_estimated = np.sum(W*X,axis=1)\n",
    "\n",
    "# On smooth l'estimation de la trajectoire\n",
    "W_smoothed, X_smoothed = backward_filter_stochastic_volatility_model(T,N,W,X,W_estimated, alpha_estimated, beta_estimated, mu_estimated)\n",
    "hidden_states_estimated_smoothed = np.sum(W_smoothed*X_smoothed,axis=1) \n",
    "\n",
    "L_t = np.arange(T)\n",
    "plt.figure(figsize=(20,8))\n",
    "sns.scatterplot(x=L_t,y=hidden_states_estimated,label='Storvik\\' filter',color='grey')\n",
    "sns.lineplot(x=L_t,y=hidden_states_estimated_smoothed,label='backward smoother')\n",
    "sns.lineplot(x=L_t,y=hidden_states,label='hidden state',color='black')\n",
    "plt.xlabel('Temps')\n",
    "plt.title(\"Backward smoother with \"+str(N)+' particles on stochastic volatility model', fontsize=30,fontname='Times New Roman')  \n",
    "plt.legend()\n",
    "plt.show() "
   ]
  },
  {
   "cell_type": "code",
   "execution_count": null,
   "id": "e7a9d1d4-be13-401c-9c45-c8c77a30e173",
   "metadata": {},
   "outputs": [],
   "source": [
    "print('W = ',np.sum(W_estimated[-1]*W[-1]))\n",
    "print('alpha = ',np.sum(alpha_estimated[-1]*W[-1]))\n",
    "print('beta = ',np.sum(beta_estimated[-1]*W[-1]))"
   ]
  },
  {
   "cell_type": "code",
   "execution_count": null,
   "id": "3e7c5db8-df5c-46c7-bfa3-2db4e54ba4c4",
   "metadata": {},
   "outputs": [],
   "source": [
    "W_cst = np.sum(W_estimated[-1]*W[-1])\n",
    "alpha_cst = np.sum(alpha_estimated[-1]*W[-1])\n",
    "beta_cst = np.sum(beta_estimated[-1]*W[-1])\n",
    "\n",
    "SIR_W,SIR_X = SIR_stochastic_volatility_model(T,Y,N,W_cst,alpha_cst,beta_cst,0)\n",
    "SIR_hidden_states_estimated = np.sum(SIR_W*SIR_X,axis=1)\n",
    "\n",
    "L_t = np.arange(T)\n",
    "plt.figure(figsize=(20,8))\n",
    "#sns.scatterplot(x=L_t,y=hidden_states_estimated,label='Storvik\\' filter',color='grey')\n",
    "sns.lineplot(x=L_t,y=SIR_hidden_states_estimated,label='SIR filter with estimated parameters',color='blue')\n",
    "#sns.lineplot(x=L_t,y=hidden_states_estimated_smoothed,label='PLS')\n",
    "sns.lineplot(x=L_t,y=hidden_states,label='hidden state',color='black')\n",
    "plt.xlabel('Temps')\n",
    "plt.title(\"Storvik\\'s filter, PLS and SIR with \"+str(N)+' particles on stochastic volatility model', fontsize=30,fontname='Times New Roman')  \n",
    "plt.legend()\n",
    "plt.show()"
   ]
  },
  {
   "cell_type": "markdown",
   "id": "62d16ac9-7da4-4592-8b57-84b9cbc2c1d2",
   "metadata": {},
   "source": [
    "# FFBS "
   ]
  },
  {
   "cell_type": "code",
   "execution_count": null,
   "id": "101100c2-00a7-436f-9e47-779f4cb94d00",
   "metadata": {
    "tags": []
   },
   "outputs": [],
   "source": [
    "from stochastic_volatility_model import *\n",
    "\n",
    "N = 100\n",
    "T = 100\n",
    "alpha_par = 0\n",
    "beta_par = 0.9702\n",
    "mu_par = 0\n",
    "W_par = 1\n",
    "\n",
    "# On génère la trajectoire \n",
    "hidden_states, observations = generate_trajectory_stochastic_volatility_model(T)\n",
    "\n",
    "# On estime avec un SIR classique \n",
    "weights, X_estimated = SIR_stochastic_volatility_model(T,observations,N,W_par,alpha_par,beta_par,mu_par)\n",
    "hidden_states_estimated = np.sum(weights*X_estimated,axis=1)\n",
    "\n",
    "# On smooth la trajectoire obtenue\n",
    "weights_smoothed = FBS_stochastic_volatility_model(T=T,N=N,weights=weights,X=X_estimated,W_par=W_par,alpha_par=alpha_par,beta_par=beta_par)\n",
    "hidden_states_estimated_smoothed = np.sum(weights_smoothed*X_estimated,axis=1)\n",
    "\n",
    "# On plot \n",
    "L_t = np.arange(T)\n",
    "plt.figure(figsize=(20,8))\n",
    "sns.lineplot(x=L_t,y=hidden_states_estimated,label='SIR',marker='o',color='blue')\n",
    "sns.lineplot(x=L_t,y=hidden_states_estimated_smoothed,marker='o',label='FFBS')\n",
    "sns.lineplot(x=L_t,y=hidden_states,label='hidden state',marker='o',color='black')\n",
    "plt.xlabel('Temps')\n",
    "plt.title(\"SIR and FFBS with \"+str(N)+' particles on stochastic volatility model', fontsize=30,fontname='Times New Roman')  \n",
    "plt.legend()\n",
    "plt.show()"
   ]
  },
  {
   "cell_type": "markdown",
   "id": "45ffb970-c015-400e-9094-77048a867442",
   "metadata": {},
   "source": [
    "# Storvik puis SIR avec les paramètres estimés "
   ]
  },
  {
   "cell_type": "code",
   "execution_count": null,
   "id": "dd1b8cd7-dc5f-4055-91f8-24bfc7444890",
   "metadata": {
    "tags": []
   },
   "outputs": [],
   "source": [
    "from stochastic_volatility_model import * \n",
    "\n",
    "N = 1000\n",
    "T = 1000\n",
    "\n",
    "print('On crée la trajectoire') \n",
    "hidden_states,Y = generate_trajectory_stochastic_volatility_model(T)\n",
    "\n",
    "print('On run le Storvik dessus') \n",
    "X, W, W_estimated, alpha_estimated, beta_estimated, mu_estimated = storvik_SIR_stochastic_volatility_model(T,Y,N)\n",
    "hidden_states_estimated = np.sum(W*X,axis=1)\n",
    "\n",
    "print('Les paramètres estimés') \n",
    "W_cst = np.sum(W_estimated[-1]*W[-1],axis=1)\n",
    "alpha_cst = np.sum(alpha_estimated[-1]*W[-1],axis=1)\n",
    "beta_cst = np.sum(beta_estimated[-1]*W[-1],axis=1)\n",
    "print('W = ',W_cst)\n",
    "print('alpha = ',alpha_cst)\n",
    "print('beta = ',beta_cst)\n",
    "\n",
    "print('On run le SIR') \n",
    "SIR_W,SIR_X = SIR_stochastic_volatility_model(T,Y,N,W_cst,alpha_cst,beta_cst,0)\n",
    "SIR_hidden_states_estimated = np.sum(SIR_W*SIR_X,axis=1)\n",
    "\n",
    "print('On plot')\n",
    "L_t = np.arange(T)\n",
    "plt.figure(figsize=(20,8))\n",
    "#sns.scatterplot(x=L_t,y=hidden_states_estimated,label='Storvik\\' filter',color='grey')\n",
    "sns.lineplot(x=L_t,y=SIR_hidden_states_estimated,label='SIR filter with estimated parameters',color='blue')\n",
    "sns.lineplot(x=L_t,y=hidden_states,label='hidden state',color='black')\n",
    "plt.xlabel('Temps')\n",
    "plt.title(\"Storvik\\'s filter, SIR with \"+str(N)+' particles on stochastic volatility model', fontsize=30,fontname='Times New Roman')  \n",
    "plt.legend()\n",
    "plt.show()"
   ]
  }
 ],
 "metadata": {
  "kernelspec": {
   "display_name": "Python 3 (ipykernel)",
   "language": "python",
   "name": "python3"
  },
  "language_info": {
   "codemirror_mode": {
    "name": "ipython",
    "version": 3
   },
   "file_extension": ".py",
   "mimetype": "text/x-python",
   "name": "python",
   "nbconvert_exporter": "python",
   "pygments_lexer": "ipython3",
   "version": "3.10.7"
  }
 },
 "nbformat": 4,
 "nbformat_minor": 5
}
